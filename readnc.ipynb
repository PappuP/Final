{
 "cells": [
  {
   "cell_type": "code",
   "execution_count": 7,
   "id": "e56dc984-eb46-47f7-bb03-7f0006ceecce",
   "metadata": {},
   "outputs": [
    {
     "name": "stdout",
     "output_type": "stream",
     "text": [
      "<class 'netCDF4._netCDF4.Dataset'>\n",
      "root group (NETCDF4_CLASSIC data model, file format HDF5):\n",
      "    description:  Data from NCEP initialized reanalysis (4x/day).  These are interpolated to pressure surfaces from model (sigma) surfaces.\n",
      "    platform: Model\n",
      "    Conventions: COARDS\n",
      "    not_missing_threshold_percent: minimum 3% values input to have non-missing output value\n",
      "    history: Created 2011/07/12 by doMonthLTM\n",
      "Converted to chunked, deflated non-packed NetCDF4 2014/09\n",
      "    title: monthly ltm air from the NCEP Reanalysis\n",
      "    dataset_title: NCEP-NCAR Reanalysis 1\n",
      "    References: http://www.psl.noaa.gov/data/gridded/data.ncep.reanalysis.derived.html\n",
      "    dimensions(sizes): lon(144), lat(73), level(17), time(12), nbnds(2)\n",
      "    variables(dimensions): float32 level(level), float32 lat(lat), float32 lon(lon), float64 time(time), float64 climatology_bounds(time, nbnds), float32 air(time, level, lat, lon), float32 valid_yr_count(time, level, lat, lon)\n",
      "    groups: \n"
     ]
    }
   ],
   "source": [
    "import netCDF4 as nc\n",
    "fn = '/data/keeling/a/pappup2/pooza/air.mon.ltm.1981-2010.nc'\n",
    "ds = nc.Dataset(fn)\n",
    "print(ds)\n",
    "xsvgsx\n",
    "#print(ds.__dict__['start_lon']"
   ]
  },
  {
   "cell_type": "code",
   "execution_count": null,
   "id": "9425bcd1-855e-4355-9c2c-2bc49cf5d845",
   "metadata": {},
   "outputs": [],
   "source": []
  }
 ],
 "metadata": {
  "kernelspec": {
   "display_name": "Python 3 (ipykernel)",
   "language": "python",
   "name": "python3"
  },
  "language_info": {
   "codemirror_mode": {
    "name": "ipython",
    "version": 3
   },
   "file_extension": ".py",
   "mimetype": "text/x-python",
   "name": "python",
   "nbconvert_exporter": "python",
   "pygments_lexer": "ipython3",
   "version": "3.9.12"
  }
 },
 "nbformat": 4,
 "nbformat_minor": 5
}
